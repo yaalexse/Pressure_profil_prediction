{
 "cells": [
  {
   "cell_type": "markdown",
   "id": "2b9e33b3",
   "metadata": {},
   "source": [
    "Prediciton of the pressure profil of an aircraft to predict stall"
   ]
  },
  {
   "cell_type": "code",
   "execution_count": null,
   "id": "32d76bde",
   "metadata": {},
   "outputs": [],
   "source": []
  }
 ],
 "metadata": {
  "kernelspec": {
   "display_name": "Python 3 (ipykernel)",
   "language": "python",
   "name": "python3"
  },
  "language_info": {
   "codemirror_mode": {
    "name": "ipython",
    "version": 3
   },
   "file_extension": ".py",
   "mimetype": "text/x-python",
   "name": "python",
   "nbconvert_exporter": "python",
   "pygments_lexer": "ipython3",
   "version": "3.9.13"
  }
 },
 "nbformat": 4,
 "nbformat_minor": 5
}
